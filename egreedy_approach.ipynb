{
 "cells": [
  {
   "cell_type": "code",
   "execution_count": 3,
   "metadata": {},
   "outputs": [],
   "source": [
    "import numpy as np\n",
    "\n",
    "\n",
    "class EGreedy:\n",
    "    \"\"\"\n",
    "    Implementation of EGreedy algorithm as described in Section 2 of book:\n",
    "    Reinforcement Learning: An Introduction (Version 2)\n",
    "    Richard S. Sutton and Andrew G. Barto\n",
    "    \"\"\"\n",
    "    def __init__(self, k, epsilon=0.1):\n",
    "        \"\"\"\n",
    "        Constructor of EGreedy\n",
    "        :param k: [int], number of arms. 0-based indexing.\n",
    "        :param epsilon: [float, default=0.1], epsilon value in range (0.0, 1.0) for exploration\n",
    "        \"\"\"\n",
    "        self.k = k\n",
    "        self.epsilon = epsilon\n",
    "        self.rewards = np.asarray([0.0 for _ in range(k)])\n",
    "        self.steps = np.asarray([0 for _ in range(k)])\n",
    "\n",
    "    def reset(self):\n",
    "        self.rewards = np.asarray([0.0 for _ in range(self.k)])\n",
    "        self.steps = np.asarray([0 for _ in range(self.k)])\n",
    "\n",
    "    def choose(self):\n",
    "        random_number = np.random.uniform(0.0, 1, 1)[0]\n",
    "\n",
    "        if random_number < self.epsilon:\n",
    "            return np.random.choice(self.k, 1, replace=False)[0].item()\n",
    "        else:\n",
    "            return np.argmax(self.rewards, axis=0)\n",
    "\n",
    "    def feedback(self, arm_id, reward):\n",
    "        self.steps[arm_id] += 1\n",
    "        self.rewards[arm_id] += (1 / self.steps[arm_id]) * (reward - self.rewards[arm_id])"
   ]
  },
  {
   "cell_type": "code",
   "execution_count": 14,
   "metadata": {},
   "outputs": [],
   "source": [
    "num_areas = 5\n",
    "# Beta probability distribution parameters for each area. Beta distros output is in range [0.0, 1.0].\n",
    "# a/b represent the ratio infected/non_infected people\n",
    "# So, a number b_i is sampled from each probability distro that defines the probability of an infected person\n",
    "# Then, we'll draw a sample from a uniform distro (0.0, 1.0) u_i. If u_i < b_i, then we have an infected person.\n",
    "beta_distro_param_1 = {'a': 10, 'b': 2}  # skewed to the right\n",
    "beta_distro_param_2 = {'a': 4, 'b': 2}   # skewed to the right but less than the previous ones\n",
    "beta_distro_param_3 = {'a': 2, 'b': 2}   # normal distro\n",
    "beta_distro_param_4 = {'a': 2, 'b': 4}   # skewed to the left\n",
    "beta_distro_param_5 = {'a': 2, 'b': 6}   # skewed even more left than the previous one\n",
    "\n",
    "egreedy = EGreedy(k=num_areas)\n",
    "\n",
    "num_test_kits = 5000\n",
    "\n",
    "sum_rewards = 0.0\n",
    "expected_rewards = []\n",
    "choices = []\n",
    "for i in range(1, num_test_kits + 1):\n",
    "    area_chosen = egreedy.choose()\n",
    "    \n",
    "    choices.append(area_chosen)\n",
    "    \n",
    "    if area_chosen == 0:\n",
    "        probability_of_true_positive = np.random.beta(**beta_distro_param_1)\n",
    "    elif area_chosen == 1:\n",
    "        probability_of_true_positive = np.random.beta(**beta_distro_param_2)\n",
    "    elif area_chosen == 2:\n",
    "        probability_of_true_positive = np.random.beta(**beta_distro_param_3)\n",
    "    elif area_chosen == 3:\n",
    "        probability_of_true_positive = np.random.beta(**beta_distro_param_4)\n",
    "    else:\n",
    "        probability_of_true_positive = np.random.beta(**beta_distro_param_5)\n",
    "        \n",
    "    random_number = np.random.uniform(0.0, 1, 1)[0]\n",
    "    reward = 1.0 if random_number < probability_of_true_positive else 0.0\n",
    "    \n",
    "    sum_rewards += reward\n",
    "    expected_rewards.append(sum_rewards / i)\n",
    "    \n",
    "    egreedy.feedback(arm_id=area_chosen, reward=reward)"
   ]
  },
  {
   "cell_type": "code",
   "execution_count": 15,
   "metadata": {},
   "outputs": [],
   "source": [
    "import matplotlib.pyplot as plt\n",
    "\n",
    "\n",
    "def plot_reward(num_iterations, reward_rates):\n",
    "    plt.plot(range(1,num_iterations+1), reward_rates)\n",
    "    plt.xlabel('num_iterations', fontsize=14)\n",
    "    plt.ylabel('reward_rate', fontsize=14)\n",
    "    plt.ylim([0,1])\n"
   ]
  },
  {
   "cell_type": "code",
   "execution_count": 16,
   "metadata": {},
   "outputs": [
    {
     "data": {
      "image/png": "[encoded data removed]",
      "text/plain": [
       "<Figure size 432x288 with 1 Axes>"
      ]
     },
     "metadata": {
      "needs_background": "light"
     },
     "output_type": "display_data"
    }
   ],
   "source": [
    "plot_reward(num_test_kits, expected_rewards)"
   ]
  },
  {
   "cell_type": "code",
   "execution_count": 17,
   "metadata": {},
   "outputs": [
    {
     "data": {
      "text/plain": [
       "Counter({2: 114, 0: 4594, 1: 92, 4: 98, 3: 102})"
      ]
     },
     "execution_count": 17,
     "metadata": {},
     "output_type": "execute_result"
    }
   ],
   "source": [
    "from collections import Counter\n",
    "\n",
    "Counter(choices)  # distribution of test kits per area"
   ]
  },
  {
   "cell_type": "code",
   "execution_count": null,
   "metadata": {},
   "outputs": [],
   "source": []
  }
 ],
 "metadata": {
  "kernelspec": {
   "display_name": "Python 3",
   "language": "python",
   "name": "python3"
  },
  "language_info": {
   "codemirror_mode": {
    "name": "ipython",
    "version": 3
   },
   "file_extension": ".py",
   "mimetype": "text/x-python",
   "name": "python",
   "nbconvert_exporter": "python",
   "pygments_lexer": "ipython3",
   "version": "3.7.7"
  }
 },
 "nbformat": 4,
 "nbformat_minor": 4
}
